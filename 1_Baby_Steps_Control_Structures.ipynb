{
  "nbformat": 4,
  "nbformat_minor": 0,
  "metadata": {
    "colab": {
      "provenance": []
    },
    "kernelspec": {
      "name": "python3",
      "display_name": "Python 3"
    },
    "language_info": {
      "name": "python"
    }
  },
  "cells": [
    {
      "cell_type": "code",
      "execution_count": 1,
      "metadata": {
        "colab": {
          "base_uri": "https://localhost:8080/"
        },
        "id": "P1--Ve82ClzH",
        "outputId": "c0f66006-877a-4fc5-ddb2-fbc65cae5c3b"
      },
      "outputs": [
        {
          "output_type": "stream",
          "name": "stdout",
          "text": [
            "Welcome to Assignment-1\n"
          ]
        }
      ],
      "source": [
        "num=\"Welcome to Assignment-1\"\n",
        "print(num)"
      ]
    },
    {
      "cell_type": "code",
      "source": [
        "num1=10\n",
        "num2=30\n",
        "print(\"num1=\", num1)\n",
        "print(\"num2=\", num2)\n",
        "add=num1+num2\n",
        "print(\"add=\",add)"
      ],
      "metadata": {
        "colab": {
          "base_uri": "https://localhost:8080/"
        },
        "id": "NCWS4wEKC-qS",
        "outputId": "8959dcfa-7ac2-41d9-843a-2f6b47974a2b"
      },
      "execution_count": 8,
      "outputs": [
        {
          "output_type": "stream",
          "name": "stdout",
          "text": [
            "num1= 10\n",
            "num2= 30\n",
            "add= 40\n"
          ]
        }
      ]
    },
    {
      "cell_type": "code",
      "source": [
        "BMI=int(input(\"Enter the BMI Index:\"))\n",
        "if(BMI<18.5):\n",
        "  print(\"underweight\")\n",
        "elif(BMI<25):\n",
        "    print(\"Normalweight\")\n",
        "elif(BMI<30):\n",
        "    print(\"Overweight\")\n",
        "elif(BMI<35):\n",
        "    print(\"very Overweight\")"
      ],
      "metadata": {
        "colab": {
          "base_uri": "https://localhost:8080/"
        },
        "id": "rZwyieUkEeW4",
        "outputId": "4a45393d-b2d8-4eb8-cb74-c754868459c0"
      },
      "execution_count": 25,
      "outputs": [
        {
          "output_type": "stream",
          "name": "stdout",
          "text": [
            "Enter the BMI Index:34\n",
            "very Overweight\n"
          ]
        }
      ]
    }
  ]
}