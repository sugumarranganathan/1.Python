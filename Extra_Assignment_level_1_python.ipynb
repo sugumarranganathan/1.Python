{
  "nbformat": 4,
  "nbformat_minor": 0,
  "metadata": {
    "colab": {
      "provenance": []
    },
    "kernelspec": {
      "name": "python3",
      "display_name": "Python 3"
    },
    "language_info": {
      "name": "python"
    }
  },
  "cells": [
    {
      "cell_type": "code",
      "execution_count": null,
      "metadata": {
        "colab": {
          "base_uri": "https://localhost:8080/"
        },
        "id": "932PEQOePjri",
        "outputId": "5779b3b4-fef3-4080-ca7f-4966b334ee1b"
      },
      "outputs": [
        {
          "output_type": "stream",
          "name": "stdout",
          "text": [
            "HOPE AI\n"
          ]
        }
      ],
      "source": [
        "print(\"HOPE AI\")"
      ]
    },
    {
      "cell_type": "code",
      "source": [
        "num=(input(\"Enter your Institute name? :\"))"
      ],
      "metadata": {
        "colab": {
          "base_uri": "https://localhost:8080/"
        },
        "id": "UEYiXc-GP-uD",
        "outputId": "3ae58798-23b7-48d4-a58d-b0eda8d8622d"
      },
      "execution_count": null,
      "outputs": [
        {
          "name": "stdout",
          "output_type": "stream",
          "text": [
            "Enter your Institute name? :HOPE AI\n"
          ]
        }
      ]
    },
    {
      "cell_type": "code",
      "source": [
        "N1=input(\"Enter your name :\")\n",
        "if N1==\"Raj\":\n",
        "    print(\"Your name is :\",N1)\n",
        "N2=int(input(\"Enter your age :\"))\n",
        "if N2==15:\n",
        "    print(\"Your age is :\",N2)\n",
        "N3=input(\"Enter your school name :\")\n",
        "if N3==\"Guru school\":\n",
        "    print(\"your school name is :\",N3)\n",
        "N4=input(\"Enter your degree :\")\n",
        "if N4==\"B.E CSE\":\n",
        "    print(\"Your degree is :\",N4)"
      ],
      "metadata": {
        "colab": {
          "base_uri": "https://localhost:8080/"
        },
        "id": "Wm4pdNKdyqHq",
        "outputId": "48f40b19-d5f0-48c6-d0b7-7b1f1bd5cd04"
      },
      "execution_count": 12,
      "outputs": [
        {
          "output_type": "stream",
          "name": "stdout",
          "text": [
            "Enter your name :Guru\n",
            "Enter your age :15\n",
            "Your age is : 15\n",
            "Enter your school name :Guru School\n",
            "Enter your degree :B.E CSE\n",
            "Your degree is : B.E CSE\n"
          ]
        }
      ]
    },
    {
      "cell_type": "code",
      "source": [
        "a=input(\"a= \")\n",
        "b=input(\"b= \")\n",
        "add=int(a) + int(b)\n",
        "print(\"Addition :\",add)\n",
        ""
      ],
      "metadata": {
        "colab": {
          "base_uri": "https://localhost:8080/"
        },
        "id": "9-JzgGjV16te",
        "outputId": "a4227832-99ce-4822-8ae8-67722f66b613"
      },
      "execution_count": 20,
      "outputs": [
        {
          "output_type": "stream",
          "name": "stdout",
          "text": [
            "a= 43\n",
            "b= 34\n",
            "Addition : 77\n"
          ]
        }
      ]
    },
    {
      "cell_type": "code",
      "source": [
        "a=input(\"a= \")\n",
        "b=input(\"b= \")\n",
        "sub=int(a) - int(b)\n",
        "print(\"Sub= \",sub)"
      ],
      "metadata": {
        "colab": {
          "base_uri": "https://localhost:8080/"
        },
        "id": "-nhRGKLE3BH9",
        "outputId": "0989cf35-9753-4647-d537-dc1b804be467"
      },
      "execution_count": 21,
      "outputs": [
        {
          "output_type": "stream",
          "name": "stdout",
          "text": [
            "a= 43\n",
            "b= 34\n",
            "Sub=  9\n"
          ]
        }
      ]
    },
    {
      "cell_type": "code",
      "source": [
        "a=input(\"a= \")\n",
        "b=input(\"b= \")\n",
        "mul=int(a) * int(b)\n",
        "print(\"Mul= \",mul)"
      ],
      "metadata": {
        "colab": {
          "base_uri": "https://localhost:8080/"
        },
        "id": "4FIs5l9Q33mV",
        "outputId": "49ecbc02-68af-4579-e19f-a700de12013a"
      },
      "execution_count": 24,
      "outputs": [
        {
          "output_type": "stream",
          "name": "stdout",
          "text": [
            "a= 63\n",
            "b= 97\n",
            "Mul=  6111\n"
          ]
        }
      ]
    },
    {
      "cell_type": "code",
      "source": [
        "a=input(\"a= \")\n",
        "b=input(\"b= \")\n",
        "div=float(a) / float(b)\n",
        "print(\"Div =\",div)"
      ],
      "metadata": {
        "colab": {
          "base_uri": "https://localhost:8080/"
        },
        "id": "1aTiHkET483_",
        "outputId": "16b4de92-70c7-40d8-9385-800dfa4fca66"
      },
      "execution_count": 25,
      "outputs": [
        {
          "output_type": "stream",
          "name": "stdout",
          "text": [
            "a= 76\n",
            "b= 31\n",
            "Div = 2.4516129032258065\n"
          ]
        }
      ]
    },
    {
      "cell_type": "code",
      "source": [
        "a=input(\"a= \")\n",
        "b=input(\"b= \")\n",
        "fd=int(a) // int(b)\n",
        "print(\"Floor Div =\",fd)"
      ],
      "metadata": {
        "colab": {
          "base_uri": "https://localhost:8080/"
        },
        "id": "83RIzWto55mU",
        "outputId": "ef34c13b-af77-410c-9e4d-8ead6bfa69c3"
      },
      "execution_count": 26,
      "outputs": [
        {
          "output_type": "stream",
          "name": "stdout",
          "text": [
            "a= 76\n",
            "b= 31\n",
            "Floor Div = 2\n"
          ]
        }
      ]
    },
    {
      "cell_type": "code",
      "source": [
        "a=input(\"a= \")\n",
        "b=input(\"b= \")\n",
        "mod=int(a) % int(b)\n",
        "print(\"Modulo =\",mod)"
      ],
      "metadata": {
        "colab": {
          "base_uri": "https://localhost:8080/"
        },
        "id": "0fXABxYa6fIa",
        "outputId": "f29caab4-ac36-4d5e-a704-00d703e8a2a2"
      },
      "execution_count": 27,
      "outputs": [
        {
          "output_type": "stream",
          "name": "stdout",
          "text": [
            "a= 76\n",
            "b= 31\n",
            "Modulo = 14\n"
          ]
        }
      ]
    },
    {
      "cell_type": "code",
      "source": [
        "a=input(\"a= \")\n",
        "b=input(\"b= \")\n",
        "powe=int(a) ** int(b)\n",
        "print(\"Power =\",powe)"
      ],
      "metadata": {
        "colab": {
          "base_uri": "https://localhost:8080/"
        },
        "id": "MU87Au9b7Flm",
        "outputId": "e2839e91-714d-4b2f-e0e6-39931da99ea2"
      },
      "execution_count": 28,
      "outputs": [
        {
          "output_type": "stream",
          "name": "stdout",
          "text": [
            "a= 4\n",
            "b= 4\n",
            "Power = 256\n"
          ]
        }
      ]
    }
  ]
}