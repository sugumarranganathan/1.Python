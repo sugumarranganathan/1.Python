{
  "nbformat": 4,
  "nbformat_minor": 0,
  "metadata": {
    "colab": {
      "provenance": []
    },
    "kernelspec": {
      "name": "python3",
      "display_name": "Python 3"
    },
    "language_info": {
      "name": "python"
    }
  },
  "cells": [
    {
      "cell_type": "code",
      "source": [
        "age=int(input(\"Enter the age:\"))"
      ],
      "metadata": {
        "colab": {
          "base_uri": "https://localhost:8080/"
        },
        "id": "RXaVCto-KgaH",
        "outputId": "fcb54594-1d70-47c2-fe9e-c6281c53f489"
      },
      "execution_count": 16,
      "outputs": [
        {
          "name": "stdout",
          "output_type": "stream",
          "text": [
            "Enter the age:18\n"
          ]
        }
      ]
    },
    {
      "cell_type": "code",
      "source": [
        "if(age==18):\n",
        "  print(\"Adult\")"
      ],
      "metadata": {
        "id": "OokAtv7cK4qS"
      },
      "execution_count": 15,
      "outputs": []
    }
  ]
}