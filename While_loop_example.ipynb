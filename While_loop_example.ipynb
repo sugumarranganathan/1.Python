{
  "nbformat": 4,
  "nbformat_minor": 0,
  "metadata": {
    "colab": {
      "provenance": []
    },
    "kernelspec": {
      "name": "python3",
      "display_name": "Python 3"
    },
    "language_info": {
      "name": "python"
    }
  },
  "cells": [
    {
      "cell_type": "code",
      "execution_count": 7,
      "metadata": {
        "colab": {
          "base_uri": "https://localhost:8080/"
        },
        "id": "RoGcuJBtLyoC",
        "outputId": "24510d21-f0c1-4503-9b6b-830a9a3a9d49"
      },
      "outputs": [
        {
          "output_type": "stream",
          "name": "stdout",
          "text": [
            "Success: False | Attempts: 3\n"
          ]
        }
      ],
      "source": [
        "# While loop: run until a condition becomes False (indefinite iteration)\n",
        "attempts = 0\n",
        "max_attempts = 3\n",
        "success = False\n",
        "\n",
        "while attempts < max_attempts and not success:\n",
        "    attempts += 1\n",
        "    # pretend_check() returns True on success, False otherwise\n",
        "    # success = pretend_check()\n",
        "    # For demo, flip success on final try:\n",
        "    success = (attempts == 20)\n",
        "\n",
        "print(\"Success:\", success, \"| Attempts:\", attempts)"
      ]
    }
  ]
}