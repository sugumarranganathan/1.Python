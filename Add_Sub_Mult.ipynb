{
  "nbformat": 4,
  "nbformat_minor": 0,
  "metadata": {
    "colab": {
      "provenance": []
    },
    "kernelspec": {
      "name": "python3",
      "display_name": "Python 3"
    },
    "language_info": {
      "name": "python"
    }
  },
  "cells": [
    {
      "cell_type": "code",
      "execution_count": 2,
      "metadata": {
        "colab": {
          "base_uri": "https://localhost:8080/"
        },
        "id": "LgsnJfrVp2sa",
        "outputId": "ed0c2393-5b29-4a50-d8a4-8760a0cc0678"
      },
      "outputs": [
        {
          "output_type": "stream",
          "name": "stdout",
          "text": [
            "add\n",
            "40\n"
          ]
        }
      ],
      "source": [
        "num1=10\n",
        "num2=30\n",
        "add=num1+num2\n",
        "print(\"add\")\n",
        "print(add)"
      ]
    },
    {
      "cell_type": "code",
      "source": [
        "num1=40\n",
        "num2=15\n",
        "sub=num1-num2\n",
        "print(\"sub\")\n",
        "print(sub)"
      ],
      "metadata": {
        "colab": {
          "base_uri": "https://localhost:8080/"
        },
        "id": "XtVVbJy0qC2K",
        "outputId": "88b60d7f-8931-4a23-bab5-a1d7676eed5e"
      },
      "execution_count": 5,
      "outputs": [
        {
          "output_type": "stream",
          "name": "stdout",
          "text": [
            "sub\n",
            "25\n"
          ]
        }
      ]
    },
    {
      "cell_type": "code",
      "source": [
        "num1=40\n",
        "num2=15\n",
        "mult=num1*num2\n",
        "print(\"mult\")\n",
        "print(mult)"
      ],
      "metadata": {
        "colab": {
          "base_uri": "https://localhost:8080/"
        },
        "id": "yC4B90Sfq1_m",
        "outputId": "4a37875f-f125-4f1d-c305-e930bff7cb1f"
      },
      "execution_count": 6,
      "outputs": [
        {
          "output_type": "stream",
          "name": "stdout",
          "text": [
            "mult\n",
            "600\n"
          ]
        }
      ]
    }
  ]
}