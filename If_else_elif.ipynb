{
  "nbformat": 4,
  "nbformat_minor": 0,
  "metadata": {
    "colab": {
      "provenance": []
    },
    "kernelspec": {
      "name": "python3",
      "display_name": "Python 3"
    },
    "language_info": {
      "name": "python"
    }
  },
  "cells": [
    {
      "cell_type": "code",
      "execution_count": 3,
      "metadata": {
        "colab": {
          "base_uri": "https://localhost:8080/"
        },
        "id": "RfcyZYMf2NfD",
        "outputId": "790b316a-0f5c-458f-e0e0-5f25021cd4e2"
      },
      "outputs": [
        {
          "output_type": "stream",
          "name": "stdout",
          "text": [
            "Enter the age60\n",
            "Senior Citizen\n"
          ]
        }
      ],
      "source": [
        "age=int(input(\"Enter the age\"))\n",
        "if(age<18):\n",
        "  print(\"children\")\n",
        "elif(age<35):\n",
        "  print(\"Adult\")\n",
        "elif(age<59):\n",
        "  print(\"citizen\")\n",
        "elif(age>59):\n",
        "  print(\"Senior Citizen\")"
      ]
    }
  ]
}