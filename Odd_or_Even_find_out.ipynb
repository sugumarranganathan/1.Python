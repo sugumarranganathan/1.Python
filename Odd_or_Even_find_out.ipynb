{
  "nbformat": 4,
  "nbformat_minor": 0,
  "metadata": {
    "colab": {
      "provenance": []
    },
    "kernelspec": {
      "name": "python3",
      "display_name": "Python 3"
    },
    "language_info": {
      "name": "python"
    }
  },
  "cells": [
    {
      "cell_type": "code",
      "source": [
        "num=int(input(\"Enter the number:\"))\n",
        "if(num%2==0):\n",
        "   print(\"Even number\")\n",
        "else:\n",
        "   print(\"Odd number\")"
      ],
      "metadata": {
        "colab": {
          "base_uri": "https://localhost:8080/"
        },
        "id": "owHIN6iOkAi7",
        "outputId": "b4c9566a-fd31-4947-aab9-2f7c8db10850"
      },
      "execution_count": 8,
      "outputs": [
        {
          "output_type": "stream",
          "name": "stdout",
          "text": [
            "Enter the number:453\n",
            "Odd number\n"
          ]
        }
      ]
    }
  ]
}