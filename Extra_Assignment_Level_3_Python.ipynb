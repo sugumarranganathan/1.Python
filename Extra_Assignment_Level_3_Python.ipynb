{
  "nbformat": 4,
  "nbformat_minor": 0,
  "metadata": {
    "colab": {
      "provenance": []
    },
    "kernelspec": {
      "name": "python3",
      "display_name": "Python 3"
    },
    "language_info": {
      "name": "python"
    }
  },
  "cells": [
    {
      "cell_type": "code",
      "execution_count": 3,
      "metadata": {
        "colab": {
          "base_uri": "https://localhost:8080/"
        },
        "id": "N5XHijiwUOP4",
        "outputId": "2d524cf4-5935-4c66-9505-b0bb1fdd1b81"
      },
      "outputs": [
        {
          "output_type": "stream",
          "name": "stdout",
          "text": [
            "Value: 10\n",
            "CORRECT\n"
          ]
        }
      ],
      "source": [
        "num = int(input(\"Value: \"))\n",
        "if num == 10:\n",
        "    print(\"CORRECT\")"
      ]
    },
    {
      "cell_type": "code",
      "source": [
        "Y = input(\"Enter the Password number: \")\n",
        "if Y == 'HOPE@123':\n",
        "    print(\"CORRECT\")"
      ],
      "metadata": {
        "colab": {
          "base_uri": "https://localhost:8080/"
        },
        "id": "SzY3_tbBUvqN",
        "outputId": "ae64354e-0f94-487a-fed0-876479dcdff3"
      },
      "execution_count": 9,
      "outputs": [
        {
          "output_type": "stream",
          "name": "stdout",
          "text": [
            "Enter the Password number: HOPE@123\n",
            "CORRECT\n"
          ]
        }
      ]
    },
    {
      "cell_type": "code",
      "source": [
        "age=int(input(\"age:\"))\n",
        "if(age<18):\n",
        "    print(\"Children\")\n",
        "elif(age<35):\n",
        "    print(\"Adult\")\n",
        "elif(age<59):\n",
        "    print(\"Citizen\")\n",
        "else:\n",
        "    print(\"Senior citizen\")\n",
        ""
      ],
      "metadata": {
        "colab": {
          "base_uri": "https://localhost:8080/"
        },
        "id": "UrTfooN-V7Q-",
        "outputId": "62163014-9e7f-4a9e-fc69-82d5087d5424"
      },
      "execution_count": 10,
      "outputs": [
        {
          "output_type": "stream",
          "name": "stdout",
          "text": [
            "age:20\n",
            "Adult\n"
          ]
        }
      ]
    },
    {
      "cell_type": "code",
      "source": [
        "X = int(input(\"Enter any Number: \"))\n",
        "if X > 0:\n",
        "    print(\"No is Positive\")\n",
        "elif X < 0:\n",
        "    print(\"No is Negative\")"
      ],
      "metadata": {
        "colab": {
          "base_uri": "https://localhost:8080/"
        },
        "id": "ycCJIv4DWZmC",
        "outputId": "3ee3f6cd-856e-4ed2-ca64-0ed8b1d8dee8"
      },
      "execution_count": 12,
      "outputs": [
        {
          "output_type": "stream",
          "name": "stdout",
          "text": [
            "Enter any Number: 56\n",
            "No is Positive\n"
          ]
        }
      ]
    },
    {
      "cell_type": "code",
      "source": [
        "num = int(input(\"Enter a Number to check: \"))\n",
        "if num%5 == 0:\n",
        "        print(\"No is divisible by 5\")\n",
        "else:\n",
        "    print(\"No is not divisible by 5\")"
      ],
      "metadata": {
        "colab": {
          "base_uri": "https://localhost:8080/"
        },
        "id": "Ca49-4b3XSTF",
        "outputId": "12d14061-42ef-47fe-cc62-f099d1ae4919"
      },
      "execution_count": 15,
      "outputs": [
        {
          "output_type": "stream",
          "name": "stdout",
          "text": [
            "Enter a Number to check: 22\n",
            "No is not divisible by 5\n"
          ]
        }
      ]
    },
    {
      "cell_type": "code",
      "source": [],
      "metadata": {
        "id": "rcVza71oYCa8"
      },
      "execution_count": null,
      "outputs": []
    }
  ]
}