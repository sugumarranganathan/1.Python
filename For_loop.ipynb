{
  "nbformat": 4,
  "nbformat_minor": 0,
  "metadata": {
    "colab": {
      "provenance": []
    },
    "kernelspec": {
      "name": "python3",
      "display_name": "Python 3"
    },
    "language_info": {
      "name": "python"
    }
  },
  "cells": [
    {
      "cell_type": "code",
      "source": [
        "List=[35,47,58,39,87]"
      ],
      "metadata": {
        "id": "gVbVRTrw9QVm"
      },
      "execution_count": 10,
      "outputs": []
    },
    {
      "cell_type": "code",
      "source": [
        "for temp in list:\n",
        "  print(temp)\n",
        "\n"
      ],
      "metadata": {
        "colab": {
          "base_uri": "https://localhost:8080/"
        },
        "id": "lETOOhHD9Z2C",
        "outputId": "69288152-addd-4a31-b0c0-6e06bbf2a14c"
      },
      "execution_count": 11,
      "outputs": [
        {
          "output_type": "stream",
          "name": "stdout",
          "text": [
            "35\n",
            "47\n",
            "58\n",
            "39\n",
            "87\n"
          ]
        }
      ]
    }
  ]
}