{
  "nbformat": 4,
  "nbformat_minor": 0,
  "metadata": {
    "colab": {
      "provenance": []
    },
    "kernelspec": {
      "name": "python3",
      "display_name": "Python 3"
    },
    "language_info": {
      "name": "python"
    }
  },
  "cells": [
    {
      "cell_type": "code",
      "execution_count": 1,
      "metadata": {
        "colab": {
          "base_uri": "https://localhost:8080/"
        },
        "id": "IawvnfFHLKX4",
        "outputId": "654a100d-9dad-4495-86bd-16c4f7adfd1b"
      },
      "outputs": [
        {
          "output_type": "stream",
          "name": "stdout",
          "text": [
            "Anand\n",
            "Bhavana\n",
            "Charan\n"
          ]
        }
      ],
      "source": [
        "names = [\"Anand\", \"Bhavana\", \"Charan\"]\n",
        "for n in names:\n",
        "    print(n)"
      ]
    }
  ]
}