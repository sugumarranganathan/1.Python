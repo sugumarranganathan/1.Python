{
  "nbformat": 4,
  "nbformat_minor": 0,
  "metadata": {
    "colab": {
      "provenance": []
    },
    "kernelspec": {
      "name": "python3",
      "display_name": "Python 3"
    },
    "language_info": {
      "name": "python"
    }
  },
  "cells": [
    {
      "cell_type": "code",
      "execution_count": 1,
      "metadata": {
        "colab": {
          "base_uri": "https://localhost:8080/"
        },
        "id": "-20cWJhS5tZb",
        "outputId": "c9b65801-d4d8-46e0-f4e4-f3825bdb2d94"
      },
      "outputs": [
        {
          "output_type": "stream",
          "name": "stdout",
          "text": [
            "0\n",
            "1\n",
            "2\n",
            "3\n",
            "4\n",
            "5\n",
            "6\n",
            "7\n",
            "8\n",
            "9\n",
            "10\n",
            "11\n",
            "12\n",
            "13\n",
            "14\n",
            "15\n",
            "16\n",
            "17\n",
            "18\n",
            "19\n"
          ]
        }
      ],
      "source": [
        "for num in range (0,20):\n",
        "  print (num)"
      ]
    },
    {
      "cell_type": "code",
      "source": [
        "for num in range(0,20):\n",
        "    print(num, end=\" \")"
      ],
      "metadata": {
        "colab": {
          "base_uri": "https://localhost:8080/"
        },
        "id": "5AdyYuSs6Q--",
        "outputId": "2070c115-fd8d-478a-aeb6-bed1adfb530d"
      },
      "execution_count": 2,
      "outputs": [
        {
          "output_type": "stream",
          "name": "stdout",
          "text": [
            "0 1 2 3 4 5 6 7 8 9 10 11 12 13 14 15 16 17 18 19 "
          ]
        }
      ]
    },
    {
      "cell_type": "code",
      "source": [
        "List2 =[10, 20, 14, 55, 43, 87, 76]\n",
        "print (List2)"
      ],
      "metadata": {
        "colab": {
          "base_uri": "https://localhost:8080/"
        },
        "id": "dqBrAKZ06ncG",
        "outputId": "9b59f40a-8fd8-4028-9694-86b014e57e12"
      },
      "execution_count": 3,
      "outputs": [
        {
          "output_type": "stream",
          "name": "stdout",
          "text": [
            "[10, 20, 14, 55, 43, 87, 76]\n"
          ]
        }
      ]
    },
    {
      "cell_type": "code",
      "source": [
        "print(\"Number of Item in the List2:\", len(List2))"
      ],
      "metadata": {
        "colab": {
          "base_uri": "https://localhost:8080/"
        },
        "id": "s0KVckOE7SL1",
        "outputId": "40cd17d2-f462-4087-8fe6-4ec5241db741"
      },
      "execution_count": 5,
      "outputs": [
        {
          "output_type": "stream",
          "name": "stdout",
          "text": [
            "Number of Item in the List2: 7\n"
          ]
        }
      ]
    },
    {
      "cell_type": "code",
      "source": [
        "text = \"Artificial Intelligence\"\n",
        "for i in text:\n",
        "    print(i)"
      ],
      "metadata": {
        "colab": {
          "base_uri": "https://localhost:8080/"
        },
        "id": "3o9rb-lk75cU",
        "outputId": "cd06009a-6e97-43c1-a468-72f3838959e2"
      },
      "execution_count": 6,
      "outputs": [
        {
          "output_type": "stream",
          "name": "stdout",
          "text": [
            "A\n",
            "r\n",
            "t\n",
            "i\n",
            "f\n",
            "i\n",
            "c\n",
            "i\n",
            "a\n",
            "l\n",
            " \n",
            "I\n",
            "n\n",
            "t\n",
            "e\n",
            "l\n",
            "l\n",
            "i\n",
            "g\n",
            "e\n",
            "n\n",
            "c\n",
            "e\n"
          ]
        }
      ]
    },
    {
      "cell_type": "code",
      "source": [
        "print(\"-your name-\")\n",
        "print(\"-your age-\")\n",
        "print(\"-Your Profession-\")"
      ],
      "metadata": {
        "colab": {
          "base_uri": "https://localhost:8080/"
        },
        "id": "UCvlVr8_8VIJ",
        "outputId": "d30c5fef-5298-406d-9aae-58da14706d44"
      },
      "execution_count": 7,
      "outputs": [
        {
          "output_type": "stream",
          "name": "stdout",
          "text": [
            "-your name-\n",
            "-your age-\n",
            "-Your Profession-\n"
          ]
        }
      ]
    },
    {
      "cell_type": "code",
      "source": [
        "tuple = (1, 'Welcome', 2, 'Hope')\n",
        "print(tuple)"
      ],
      "metadata": {
        "colab": {
          "base_uri": "https://localhost:8080/"
        },
        "id": "2ocIPWuL9ML8",
        "outputId": "b57b71af-947c-403d-da3e-12a77ea2fb46"
      },
      "execution_count": 10,
      "outputs": [
        {
          "output_type": "stream",
          "name": "stdout",
          "text": [
            "(1, 'Welcome', 2, 'Hope')\n"
          ]
        }
      ]
    },
    {
      "cell_type": "code",
      "source": [
        "Tuple1 =(0,1,2,3)\n",
        "Tuple2 = ('Python', 'Hope')\n",
        "Tuple3 = (Tuple1, Tuple2)\n",
        "print(Tuple3)"
      ],
      "metadata": {
        "colab": {
          "base_uri": "https://localhost:8080/"
        },
        "id": "KPzjWujl98BQ",
        "outputId": "92d9c2ea-55a6-436a-c236-fbb1738d56ef"
      },
      "execution_count": 11,
      "outputs": [
        {
          "output_type": "stream",
          "name": "stdout",
          "text": [
            "((0, 1, 2, 3), ('Python', 'Hope'))\n"
          ]
        }
      ]
    },
    {
      "cell_type": "code",
      "source": [
        "list1 = [20,10,16,19,25,1,276,188]\n",
        "\n",
        "for i in list1:\n",
        "    if i%2 == 1:\n",
        "        print(i, \"is odd \")"
      ],
      "metadata": {
        "colab": {
          "base_uri": "https://localhost:8080/"
        },
        "id": "qZMpU3_7Bbsl",
        "outputId": "a728a2ca-b602-48d9-d534-461db77c183d"
      },
      "execution_count": 14,
      "outputs": [
        {
          "output_type": "stream",
          "name": "stdout",
          "text": [
            "19 is odd \n",
            "25 is odd \n",
            "1 is odd \n"
          ]
        }
      ]
    },
    {
      "cell_type": "code",
      "source": [
        "list1 = [20,10,16,19,25,1,276,188]\n",
        "for i in list1:\n",
        "   if i%2 == 0:\n",
        "    print(i, \"is Even \")\n",
        "\n",
        ""
      ],
      "metadata": {
        "colab": {
          "base_uri": "https://localhost:8080/"
        },
        "id": "iGoSO4E4CZxd",
        "outputId": "2e34ec87-d951-4aa9-95ac-9865dbbe84f7"
      },
      "execution_count": 21,
      "outputs": [
        {
          "output_type": "stream",
          "name": "stdout",
          "text": [
            "20 is Even \n",
            "10 is Even \n",
            "16 is Even \n",
            "276 is Even \n",
            "188 is Even \n"
          ]
        }
      ]
    }
  ]
}