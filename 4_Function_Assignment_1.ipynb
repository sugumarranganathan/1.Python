{
  "nbformat": 4,
  "nbformat_minor": 0,
  "metadata": {
    "colab": {
      "provenance": []
    },
    "kernelspec": {
      "name": "python3",
      "display_name": "Python 3"
    },
    "language_info": {
      "name": "python"
    }
  },
  "cells": [
    {
      "cell_type": "code",
      "source": [
        "class SubfieldInAI:\n",
        "    def subfields(self):\n",
        "        fields = [\n",
        "            \"Machine Learning\",\n",
        "            \"Neural Networks\",\n",
        "            \"Vision\",\n",
        "            \"Robotics\",\n",
        "            \"Speech Processing\",\n",
        "            \"Natural Language Processing\"\n",
        "        ]\n",
        "        print(\"Sub-fields in AI are:\")\n",
        "        for field in fields:\n",
        "            print(field)"
      ],
      "metadata": {
        "id": "tyCTp1XfGLDe"
      },
      "execution_count": 8,
      "outputs": []
    },
    {
      "cell_type": "code",
      "source": [
        "SunfieldInAI = SubfieldInAI()\n",
        "\n",
        "SunfieldInAI.subfields()"
      ],
      "metadata": {
        "colab": {
          "base_uri": "https://localhost:8080/"
        },
        "id": "eZl0zuYWGgah",
        "outputId": "8ef3a8ee-94fc-4811-99a9-1ecad9a10437"
      },
      "execution_count": 9,
      "outputs": [
        {
          "output_type": "stream",
          "name": "stdout",
          "text": [
            "Sub-fields in AI are:\n",
            "Machine Learning\n",
            "Neural Networks\n",
            "Vision\n",
            "Robotics\n",
            "Speech Processing\n",
            "Natural Language Processing\n"
          ]
        }
      ]
    },
    {
      "cell_type": "code",
      "source": [
        "class OddEven():\n",
        "    def OddEven():\n",
        "        numb = int(input(\"Enter a number:\"))\n",
        "        if((numb % 2) == 0):\n",
        "            print(numb,\"is Even number\")\n",
        "        else:\n",
        "            print(numb,\"is Odd number\")"
      ],
      "metadata": {
        "id": "mVHPSb4gJm0S"
      },
      "execution_count": 16,
      "outputs": []
    },
    {
      "cell_type": "code",
      "source": [
        "OddEven.OddEven()"
      ],
      "metadata": {
        "colab": {
          "base_uri": "https://localhost:8080/"
        },
        "id": "nBRdoiHsJosr",
        "outputId": "6d9f2a69-8cc4-49ce-9ab3-7dc981f13386"
      },
      "execution_count": 17,
      "outputs": [
        {
          "output_type": "stream",
          "name": "stdout",
          "text": [
            "Enter a number:52452\n",
            "52452 is Even number\n"
          ]
        }
      ]
    },
    {
      "cell_type": "code",
      "source": [
        "class EligiblityForMarriage:\n",
        "    def Eligible():\n",
        "        gender = input(\"Enter your Gender:\")\n",
        "        age = int(input(\"Enter your Age:\"))\n",
        "        if(gender == 'Male'):\n",
        "            if(age >=21 ):\n",
        "                print(\"ELIGIBLE\")\n",
        "            else:\n",
        "                print(\"NOT ELIGIBLE\")\n",
        "        elif(gender == 'Female'):\n",
        "            if(age >=18 ):\n",
        "                print(\"ELIGIBLE\")\n",
        "            else:\n",
        "                print(\"NOT ELIGIBLE\")"
      ],
      "metadata": {
        "id": "GU3t4PsHULxZ"
      },
      "execution_count": 18,
      "outputs": []
    },
    {
      "cell_type": "code",
      "source": [
        "EligiblityForMarriage.Eligible()\n"
      ],
      "metadata": {
        "colab": {
          "base_uri": "https://localhost:8080/"
        },
        "id": "PS75M0MkUq_C",
        "outputId": "9de40290-e7e9-45b0-8d0c-5ac8da27dfc7"
      },
      "execution_count": 26,
      "outputs": [
        {
          "output_type": "stream",
          "name": "stdout",
          "text": [
            "Enter your Gender:Female\n",
            "Enter your Age:25\n",
            "ELIGIBLE\n"
          ]
        }
      ]
    },
    {
      "cell_type": "code",
      "source": [
        "class FindPercent:\n",
        "    def percentage():\n",
        "        Subject1= int(input(\"Enter the mark of Subject1=\"))\n",
        "        Subject2= int(input(\"Enter the mark of Subject2=\"))\n",
        "        Subject3= int(input(\"Enter the mark of Subject3=\"))\n",
        "        Subject4= int(input(\"Enter the mark of Subject4=\"))\n",
        "        Subject5= int(input(\"Enter the mark of Subject5=\"))\n",
        "        Total = Subject1+Subject2+Subject3+Subject4+Subject5\n",
        "        Percentage = (Total/500)*100\n",
        "        print(\"Subject1=\",Subject1)\n",
        "        print(\"Subject2=\",Subject2)\n",
        "        print(\"Subject3=\",Subject3)\n",
        "        print(\"Subject4=\",Subject4)\n",
        "        print(\"Subject5=\",Subject5)\n",
        "        print(\"Total : \",Total)\n",
        "        print(\"Percentage : \",Percentage)"
      ],
      "metadata": {
        "id": "_MqCDUYRWPBu"
      },
      "execution_count": 31,
      "outputs": []
    },
    {
      "cell_type": "code",
      "source": [
        "FindPercent.percentage()"
      ],
      "metadata": {
        "colab": {
          "base_uri": "https://localhost:8080/"
        },
        "id": "bHUxg8nQWbmW",
        "outputId": "971bc90e-9cb4-4698-e5f2-86502be3b62b"
      },
      "execution_count": 32,
      "outputs": [
        {
          "output_type": "stream",
          "name": "stdout",
          "text": [
            "Enter the mark of Subject1=98\n",
            "Enter the mark of Subject2=87\n",
            "Enter the mark of Subject3=95\n",
            "Enter the mark of Subject4=95\n",
            "Enter the mark of Subject5=93\n",
            "Subject1= 98\n",
            "Subject2= 87\n",
            "Subject3= 95\n",
            "Subject4= 95\n",
            "Subject5= 93\n",
            "Total :  468\n",
            "Percentage :  93.60000000000001\n"
          ]
        }
      ]
    },
    {
      "cell_type": "code",
      "source": [
        "class triangle:\n",
        "    def triangle():\n",
        "        Height = int(input(\"Enter the Height:\"))\n",
        "        Breadth = int(input(\"Enter the Breadth:\"))\n",
        "        Area_triangle = (Height*Breadth)/2\n",
        "        print(\"Area formula: (Height*Breadth)/2\")\n",
        "        print(\"Area of Triangle:\",Area_triangle)\n",
        "        Height1 = int(input(\"Enter the Height1:\"))\n",
        "        Height2 = int(input(\"Enter the Height2:\"))\n",
        "        Breadth = int(input(\"Enter the Breadth:\"))\n",
        "        Perimeter_triangle = Height1+Height2+Breadth\n",
        "        print(\"Perimeter formula: Height1+Height2+Breadth\")\n",
        "        print(\"Perimeter of Triangle:\",Perimeter_triangle)"
      ],
      "metadata": {
        "id": "8o-WicXNXK69"
      },
      "execution_count": 34,
      "outputs": []
    },
    {
      "cell_type": "code",
      "source": [
        "triangle.triangle()"
      ],
      "metadata": {
        "colab": {
          "base_uri": "https://localhost:8080/"
        },
        "id": "ynctRpLLXcol",
        "outputId": "29da1e0c-4f6c-437d-bbaf-ec2836c4af59"
      },
      "execution_count": 36,
      "outputs": [
        {
          "output_type": "stream",
          "name": "stdout",
          "text": [
            "Enter the Height:32\n",
            "Enter the Breadth:34\n",
            "Area formula: (Height*Breadth)/2\n",
            "Area of Triangle: 544.0\n",
            "Enter the Height1:2\n",
            "Enter the Height2:4\n",
            "Enter the Breadth:4\n",
            "Perimeter formula: Height1+Height2+Breadth\n",
            "Perimeter of Triangle: 10\n"
          ]
        }
      ]
    }
  ]
}