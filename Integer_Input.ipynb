{
  "nbformat": 4,
  "nbformat_minor": 0,
  "metadata": {
    "colab": {
      "provenance": []
    },
    "kernelspec": {
      "name": "python3",
      "display_name": "Python 3"
    },
    "language_info": {
      "name": "python"
    }
  },
  "cells": [
    {
      "cell_type": "code",
      "execution_count": 3,
      "metadata": {
        "colab": {
          "base_uri": "https://localhost:8080/"
        },
        "id": "NC2nrwzv9t4g",
        "outputId": "3496a249-9521-4e58-867b-4aa3a43ef3ac"
      },
      "outputs": [
        {
          "output_type": "stream",
          "name": "stdout",
          "text": [
            "Enter the num1:30\n",
            "Enter the num250\n",
            "80\n"
          ]
        }
      ],
      "source": [
        "num1=int(input(\"Enter the num1:\"))\n",
        "num2=int(input(\"Enter the num2\"))\n",
        "add=num1+num2\n",
        "print(add)"
      ]
    },
    {
      "cell_type": "code",
      "source": [],
      "metadata": {
        "id": "b0nopl1292Ek"
      },
      "execution_count": null,
      "outputs": []
    }
  ]
}