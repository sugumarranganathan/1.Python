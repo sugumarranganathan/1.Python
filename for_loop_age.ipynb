{
  "nbformat": 4,
  "nbformat_minor": 0,
  "metadata": {
    "colab": {
      "provenance": []
    },
    "kernelspec": {
      "name": "python3",
      "display_name": "Python 3"
    },
    "language_info": {
      "name": "python"
    }
  },
  "cells": [
    {
      "cell_type": "code",
      "execution_count": null,
      "metadata": {
        "id": "BHExkexDCu6a"
      },
      "outputs": [],
      "source": [
        "List=[33,10,89,26,77]"
      ]
    },
    {
      "cell_type": "code",
      "source": [
        "for age in List:\n",
        "  if(age<18):\n",
        "      print(\"children\")\n",
        "  elif(age<35):\n",
        "      print(\"Adult\")\n",
        "  elif(age<59):\n",
        "      print(\"citizen\")\n",
        "  else:\n",
        "      print(\"senior citizen\")"
      ],
      "metadata": {
        "colab": {
          "base_uri": "https://localhost:8080/"
        },
        "id": "JRR6f2r3bmJn",
        "outputId": "4c936fb5-542a-4edf-9562-a1ef450c2b5e"
      },
      "execution_count": null,
      "outputs": [
        {
          "output_type": "stream",
          "name": "stdout",
          "text": [
            "Adult\n",
            "children\n",
            "senior citizen\n",
            "Adult\n",
            "senior citizen\n"
          ]
        }
      ]
    }
  ]
}